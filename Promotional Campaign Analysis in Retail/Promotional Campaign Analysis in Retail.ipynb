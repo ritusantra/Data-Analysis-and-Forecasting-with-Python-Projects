{
 "cells": [
  {
   "cell_type": "markdown",
   "id": "8908c97e",
   "metadata": {},
   "source": [
    "## Recommended Insights"
   ]
  },
  {
   "cell_type": "code",
   "execution_count": 1,
   "id": "116f5b35",
   "metadata": {},
   "outputs": [],
   "source": [
    "import numpy as np\n",
    "import pandas as pd"
   ]
  },
  {
   "cell_type": "code",
   "execution_count": 2,
   "id": "6f9edfad",
   "metadata": {},
   "outputs": [],
   "source": [
    "campaigns = pd.read_csv('dim_campaigns.csv')\n",
    "products = pd.read_csv('dim_products.csv')\n",
    "stores = pd.read_csv('dim_stores.csv')\n",
    "events = pd.read_csv('fact_events.csv')"
   ]
  },
  {
   "cell_type": "code",
   "execution_count": 3,
   "id": "53394e46",
   "metadata": {},
   "outputs": [],
   "source": [
    "pd.set_option('display.float_format', lambda x: '%.2f' % x)"
   ]
  },
  {
   "cell_type": "markdown",
   "id": "fffe897d",
   "metadata": {},
   "source": [
    "**Validating campaigns data**"
   ]
  },
  {
   "cell_type": "code",
   "execution_count": 4,
   "id": "0fe3cb05",
   "metadata": {},
   "outputs": [
    {
     "name": "stdout",
     "output_type": "stream",
     "text": [
      "<class 'pandas.core.frame.DataFrame'>\n",
      "RangeIndex: 2 entries, 0 to 1\n",
      "Data columns (total 4 columns):\n",
      " #   Column         Non-Null Count  Dtype \n",
      "---  ------         --------------  ----- \n",
      " 0   campaign_id    2 non-null      object\n",
      " 1   campaign_name  2 non-null      object\n",
      " 2   start_date     2 non-null      object\n",
      " 3   end_date       2 non-null      object\n",
      "dtypes: object(4)\n",
      "memory usage: 192.0+ bytes\n"
     ]
    }
   ],
   "source": [
    "campaigns.info()"
   ]
  },
  {
   "cell_type": "markdown",
   "id": "66a04358",
   "metadata": {},
   "source": [
    "**Changing data type of date**"
   ]
  },
  {
   "cell_type": "code",
   "execution_count": 5,
   "id": "ad6302dc",
   "metadata": {},
   "outputs": [],
   "source": [
    "campaigns['start_date'] = pd.to_datetime(campaigns['start_date'])\n",
    "campaigns['end_date'] = pd.to_datetime(campaigns['end_date'])"
   ]
  },
  {
   "cell_type": "code",
   "execution_count": 6,
   "id": "92db4031",
   "metadata": {},
   "outputs": [
    {
     "name": "stdout",
     "output_type": "stream",
     "text": [
      "<class 'pandas.core.frame.DataFrame'>\n",
      "RangeIndex: 2 entries, 0 to 1\n",
      "Data columns (total 4 columns):\n",
      " #   Column         Non-Null Count  Dtype         \n",
      "---  ------         --------------  -----         \n",
      " 0   campaign_id    2 non-null      object        \n",
      " 1   campaign_name  2 non-null      object        \n",
      " 2   start_date     2 non-null      datetime64[ns]\n",
      " 3   end_date       2 non-null      datetime64[ns]\n",
      "dtypes: datetime64[ns](2), object(2)\n",
      "memory usage: 192.0+ bytes\n"
     ]
    }
   ],
   "source": [
    "campaigns.info()"
   ]
  },
  {
   "cell_type": "code",
   "execution_count": 7,
   "id": "672cefff",
   "metadata": {},
   "outputs": [
    {
     "data": {
      "text/html": [
       "<div>\n",
       "<style scoped>\n",
       "    .dataframe tbody tr th:only-of-type {\n",
       "        vertical-align: middle;\n",
       "    }\n",
       "\n",
       "    .dataframe tbody tr th {\n",
       "        vertical-align: top;\n",
       "    }\n",
       "\n",
       "    .dataframe thead th {\n",
       "        text-align: right;\n",
       "    }\n",
       "</style>\n",
       "<table border=\"1\" class=\"dataframe\">\n",
       "  <thead>\n",
       "    <tr style=\"text-align: right;\">\n",
       "      <th></th>\n",
       "      <th>campaign_id</th>\n",
       "      <th>campaign_name</th>\n",
       "      <th>start_date</th>\n",
       "      <th>end_date</th>\n",
       "    </tr>\n",
       "  </thead>\n",
       "  <tbody>\n",
       "    <tr>\n",
       "      <th>0</th>\n",
       "      <td>CAMP_DIW_01</td>\n",
       "      <td>Diwali</td>\n",
       "      <td>2023-12-11</td>\n",
       "      <td>2023-11-18</td>\n",
       "    </tr>\n",
       "    <tr>\n",
       "      <th>1</th>\n",
       "      <td>CAMP_SAN_01</td>\n",
       "      <td>Sankranti</td>\n",
       "      <td>2024-10-01</td>\n",
       "      <td>2024-01-16</td>\n",
       "    </tr>\n",
       "  </tbody>\n",
       "</table>\n",
       "</div>"
      ],
      "text/plain": [
       "   campaign_id campaign_name start_date   end_date\n",
       "0  CAMP_DIW_01        Diwali 2023-12-11 2023-11-18\n",
       "1  CAMP_SAN_01     Sankranti 2024-10-01 2024-01-16"
      ]
     },
     "execution_count": 7,
     "metadata": {},
     "output_type": "execute_result"
    }
   ],
   "source": [
    "campaigns"
   ]
  },
  {
   "cell_type": "markdown",
   "id": "f6961424",
   "metadata": {},
   "source": [
    "**Validating products data**"
   ]
  },
  {
   "cell_type": "code",
   "execution_count": 8,
   "id": "cd31e929",
   "metadata": {},
   "outputs": [
    {
     "name": "stdout",
     "output_type": "stream",
     "text": [
      "<class 'pandas.core.frame.DataFrame'>\n",
      "RangeIndex: 15 entries, 0 to 14\n",
      "Data columns (total 3 columns):\n",
      " #   Column        Non-Null Count  Dtype \n",
      "---  ------        --------------  ----- \n",
      " 0   product_code  15 non-null     object\n",
      " 1   product_name  15 non-null     object\n",
      " 2   category      15 non-null     object\n",
      "dtypes: object(3)\n",
      "memory usage: 488.0+ bytes\n"
     ]
    }
   ],
   "source": [
    "products.info()"
   ]
  },
  {
   "cell_type": "code",
   "execution_count": 9,
   "id": "5cf01fc6",
   "metadata": {},
   "outputs": [
    {
     "data": {
      "text/html": [
       "<div>\n",
       "<style scoped>\n",
       "    .dataframe tbody tr th:only-of-type {\n",
       "        vertical-align: middle;\n",
       "    }\n",
       "\n",
       "    .dataframe tbody tr th {\n",
       "        vertical-align: top;\n",
       "    }\n",
       "\n",
       "    .dataframe thead th {\n",
       "        text-align: right;\n",
       "    }\n",
       "</style>\n",
       "<table border=\"1\" class=\"dataframe\">\n",
       "  <thead>\n",
       "    <tr style=\"text-align: right;\">\n",
       "      <th></th>\n",
       "      <th>product_code</th>\n",
       "      <th>product_name</th>\n",
       "      <th>category</th>\n",
       "    </tr>\n",
       "  </thead>\n",
       "  <tbody>\n",
       "    <tr>\n",
       "      <th>0</th>\n",
       "      <td>P01</td>\n",
       "      <td>Atliq_Masoor_Dal (1KG)</td>\n",
       "      <td>Grocery &amp; Staples</td>\n",
       "    </tr>\n",
       "    <tr>\n",
       "      <th>1</th>\n",
       "      <td>P02</td>\n",
       "      <td>Atliq_Sonamasuri_Rice (10KG)</td>\n",
       "      <td>Grocery &amp; Staples</td>\n",
       "    </tr>\n",
       "    <tr>\n",
       "      <th>2</th>\n",
       "      <td>P03</td>\n",
       "      <td>Atliq_Suflower_Oil (1L)</td>\n",
       "      <td>Grocery &amp; Staples</td>\n",
       "    </tr>\n",
       "    <tr>\n",
       "      <th>3</th>\n",
       "      <td>P04</td>\n",
       "      <td>Atliq_Farm_Chakki_Atta (1KG)</td>\n",
       "      <td>Grocery &amp; Staples</td>\n",
       "    </tr>\n",
       "    <tr>\n",
       "      <th>4</th>\n",
       "      <td>P05</td>\n",
       "      <td>Atliq_Scrub_Sponge_For_Dishwash</td>\n",
       "      <td>Home Care</td>\n",
       "    </tr>\n",
       "  </tbody>\n",
       "</table>\n",
       "</div>"
      ],
      "text/plain": [
       "  product_code                     product_name           category\n",
       "0          P01           Atliq_Masoor_Dal (1KG)  Grocery & Staples\n",
       "1          P02     Atliq_Sonamasuri_Rice (10KG)  Grocery & Staples\n",
       "2          P03          Atliq_Suflower_Oil (1L)  Grocery & Staples\n",
       "3          P04     Atliq_Farm_Chakki_Atta (1KG)  Grocery & Staples\n",
       "4          P05  Atliq_Scrub_Sponge_For_Dishwash          Home Care"
      ]
     },
     "execution_count": 9,
     "metadata": {},
     "output_type": "execute_result"
    }
   ],
   "source": [
    "products.head()"
   ]
  },
  {
   "cell_type": "markdown",
   "id": "213d8272",
   "metadata": {},
   "source": [
    "**Validating stores data**"
   ]
  },
  {
   "cell_type": "code",
   "execution_count": 10,
   "id": "fc0312f3",
   "metadata": {},
   "outputs": [
    {
     "name": "stdout",
     "output_type": "stream",
     "text": [
      "<class 'pandas.core.frame.DataFrame'>\n",
      "RangeIndex: 50 entries, 0 to 49\n",
      "Data columns (total 2 columns):\n",
      " #   Column    Non-Null Count  Dtype \n",
      "---  ------    --------------  ----- \n",
      " 0   store_id  50 non-null     object\n",
      " 1   city      50 non-null     object\n",
      "dtypes: object(2)\n",
      "memory usage: 928.0+ bytes\n"
     ]
    }
   ],
   "source": [
    "stores.info()"
   ]
  },
  {
   "cell_type": "code",
   "execution_count": 11,
   "id": "0669a049",
   "metadata": {},
   "outputs": [
    {
     "data": {
      "text/html": [
       "<div>\n",
       "<style scoped>\n",
       "    .dataframe tbody tr th:only-of-type {\n",
       "        vertical-align: middle;\n",
       "    }\n",
       "\n",
       "    .dataframe tbody tr th {\n",
       "        vertical-align: top;\n",
       "    }\n",
       "\n",
       "    .dataframe thead th {\n",
       "        text-align: right;\n",
       "    }\n",
       "</style>\n",
       "<table border=\"1\" class=\"dataframe\">\n",
       "  <thead>\n",
       "    <tr style=\"text-align: right;\">\n",
       "      <th></th>\n",
       "      <th>store_id</th>\n",
       "      <th>city</th>\n",
       "    </tr>\n",
       "  </thead>\n",
       "  <tbody>\n",
       "    <tr>\n",
       "      <th>0</th>\n",
       "      <td>STTRV-0</td>\n",
       "      <td>Trivandrum</td>\n",
       "    </tr>\n",
       "    <tr>\n",
       "      <th>1</th>\n",
       "      <td>STMDU-3</td>\n",
       "      <td>Madurai</td>\n",
       "    </tr>\n",
       "    <tr>\n",
       "      <th>2</th>\n",
       "      <td>STHYD-6</td>\n",
       "      <td>Hyderabad</td>\n",
       "    </tr>\n",
       "    <tr>\n",
       "      <th>3</th>\n",
       "      <td>STVSK-1</td>\n",
       "      <td>Visakhapatnam</td>\n",
       "    </tr>\n",
       "    <tr>\n",
       "      <th>4</th>\n",
       "      <td>STCBE-3</td>\n",
       "      <td>Coimbatore</td>\n",
       "    </tr>\n",
       "  </tbody>\n",
       "</table>\n",
       "</div>"
      ],
      "text/plain": [
       "  store_id           city\n",
       "0  STTRV-0     Trivandrum\n",
       "1  STMDU-3        Madurai\n",
       "2  STHYD-6      Hyderabad\n",
       "3  STVSK-1  Visakhapatnam\n",
       "4  STCBE-3     Coimbatore"
      ]
     },
     "execution_count": 11,
     "metadata": {},
     "output_type": "execute_result"
    }
   ],
   "source": [
    "stores.head()"
   ]
  },
  {
   "cell_type": "markdown",
   "id": "91f4ff5d",
   "metadata": {},
   "source": [
    "**Validating events data**"
   ]
  },
  {
   "cell_type": "code",
   "execution_count": 12,
   "id": "aded222f",
   "metadata": {},
   "outputs": [
    {
     "name": "stdout",
     "output_type": "stream",
     "text": [
      "<class 'pandas.core.frame.DataFrame'>\n",
      "RangeIndex: 1500 entries, 0 to 1499\n",
      "Data columns (total 8 columns):\n",
      " #   Column                       Non-Null Count  Dtype \n",
      "---  ------                       --------------  ----- \n",
      " 0   event_id                     1500 non-null   object\n",
      " 1   store_id                     1500 non-null   object\n",
      " 2   campaign_id                  1500 non-null   object\n",
      " 3   product_code                 1500 non-null   object\n",
      " 4   base_price                   1500 non-null   int64 \n",
      " 5   promo_type                   1500 non-null   object\n",
      " 6   quantity_sold(before_promo)  1500 non-null   int64 \n",
      " 7   quantity_sold(after_promo)   1500 non-null   int64 \n",
      "dtypes: int64(3), object(5)\n",
      "memory usage: 93.9+ KB\n"
     ]
    }
   ],
   "source": [
    "events.info()"
   ]
  },
  {
   "cell_type": "markdown",
   "id": "676c74e9",
   "metadata": {},
   "source": [
    "### Store Performance Analysis"
   ]
  },
  {
   "cell_type": "markdown",
   "id": "3ed87ea7",
   "metadata": {},
   "source": [
    "* Which are the top 10 stores in terms of Incremental Revenue (IR) generated from the promotions?\n"
   ]
  },
  {
   "cell_type": "code",
   "execution_count": 13,
   "id": "edd48fc3",
   "metadata": {},
   "outputs": [
    {
     "data": {
      "text/html": [
       "<div>\n",
       "<style scoped>\n",
       "    .dataframe tbody tr th:only-of-type {\n",
       "        vertical-align: middle;\n",
       "    }\n",
       "\n",
       "    .dataframe tbody tr th {\n",
       "        vertical-align: top;\n",
       "    }\n",
       "\n",
       "    .dataframe thead th {\n",
       "        text-align: right;\n",
       "    }\n",
       "</style>\n",
       "<table border=\"1\" class=\"dataframe\">\n",
       "  <thead>\n",
       "    <tr style=\"text-align: right;\">\n",
       "      <th></th>\n",
       "      <th>store_id</th>\n",
       "      <th>total_rev_before_promo</th>\n",
       "      <th>total_rev_after_promo</th>\n",
       "      <th>IR</th>\n",
       "    </tr>\n",
       "  </thead>\n",
       "  <tbody>\n",
       "    <tr>\n",
       "      <th>38</th>\n",
       "      <td>STMYS-1</td>\n",
       "      <td>3539283</td>\n",
       "      <td>8458596.54</td>\n",
       "      <td>4919313.54</td>\n",
       "    </tr>\n",
       "    <tr>\n",
       "      <th>19</th>\n",
       "      <td>STCHE-4</td>\n",
       "      <td>3556860</td>\n",
       "      <td>8384890.03</td>\n",
       "      <td>4828030.03</td>\n",
       "    </tr>\n",
       "    <tr>\n",
       "      <th>0</th>\n",
       "      <td>STBLR-0</td>\n",
       "      <td>3401065</td>\n",
       "      <td>8160688.65</td>\n",
       "      <td>4759623.65</td>\n",
       "    </tr>\n",
       "    <tr>\n",
       "      <th>7</th>\n",
       "      <td>STBLR-7</td>\n",
       "      <td>3355236</td>\n",
       "      <td>8072823.33</td>\n",
       "      <td>4717587.33</td>\n",
       "    </tr>\n",
       "    <tr>\n",
       "      <th>22</th>\n",
       "      <td>STCHE-7</td>\n",
       "      <td>3257935</td>\n",
       "      <td>7905660.72</td>\n",
       "      <td>4647725.72</td>\n",
       "    </tr>\n",
       "    <tr>\n",
       "      <th>6</th>\n",
       "      <td>STBLR-6</td>\n",
       "      <td>3404012</td>\n",
       "      <td>8014232.29</td>\n",
       "      <td>4610220.29</td>\n",
       "    </tr>\n",
       "    <tr>\n",
       "      <th>18</th>\n",
       "      <td>STCHE-3</td>\n",
       "      <td>3223142</td>\n",
       "      <td>7631792.33</td>\n",
       "      <td>4408650.33</td>\n",
       "    </tr>\n",
       "    <tr>\n",
       "      <th>40</th>\n",
       "      <td>STMYS-3</td>\n",
       "      <td>3223037</td>\n",
       "      <td>7625328.98</td>\n",
       "      <td>4402291.98</td>\n",
       "    </tr>\n",
       "    <tr>\n",
       "      <th>21</th>\n",
       "      <td>STCHE-6</td>\n",
       "      <td>3567987</td>\n",
       "      <td>7603832.71</td>\n",
       "      <td>4035845.71</td>\n",
       "    </tr>\n",
       "    <tr>\n",
       "      <th>3</th>\n",
       "      <td>STBLR-3</td>\n",
       "      <td>3360712</td>\n",
       "      <td>7303155.40</td>\n",
       "      <td>3942443.40</td>\n",
       "    </tr>\n",
       "  </tbody>\n",
       "</table>\n",
       "</div>"
      ],
      "text/plain": [
       "   store_id  total_rev_before_promo  total_rev_after_promo         IR\n",
       "38  STMYS-1                 3539283             8458596.54 4919313.54\n",
       "19  STCHE-4                 3556860             8384890.03 4828030.03\n",
       "0   STBLR-0                 3401065             8160688.65 4759623.65\n",
       "7   STBLR-7                 3355236             8072823.33 4717587.33\n",
       "22  STCHE-7                 3257935             7905660.72 4647725.72\n",
       "6   STBLR-6                 3404012             8014232.29 4610220.29\n",
       "18  STCHE-3                 3223142             7631792.33 4408650.33\n",
       "40  STMYS-3                 3223037             7625328.98 4402291.98\n",
       "21  STCHE-6                 3567987             7603832.71 4035845.71\n",
       "3   STBLR-3                 3360712             7303155.40 3942443.40"
      ]
     },
     "execution_count": 13,
     "metadata": {},
     "output_type": "execute_result"
    }
   ],
   "source": [
    "events['total_rev_before_promo'] = events['base_price'] * events['quantity_sold(before_promo)']\n",
    "events['total_qty_after_promo'] = np.where(events['promo_type'] == 'BOGOF', 2 *  events['quantity_sold(after_promo)'], events['quantity_sold(after_promo)'])\n",
    "events['discount'] = np.where(events['promo_type'] == '50% OFF', 0.50 * events['base_price'] * events['total_qty_after_promo'],np.where(events['promo_type'] == '25% OFF', 0.25 * events['base_price'] * events['total_qty_after_promo'],np.where(events['promo_type'] == '33% OFF', 0.33 * events['base_price'] * events['total_qty_after_promo'],np.where(events['promo_type'] == 'BOGOF', 0.50 * events['base_price'] * events['total_qty_after_promo'],  500 * events['total_qty_after_promo']))))\n",
    "events['total_rev_after_promo'] = (events['base_price'] * events['total_qty_after_promo']) - events['discount']\n",
    "event_store = events.groupby('store_id')[['total_rev_before_promo','total_rev_after_promo']].sum().reset_index()\n",
    "event_store['IR'] = event_store['total_rev_after_promo'] - event_store['total_rev_before_promo']\n",
    "event_store.sort_values(by='IR',ascending=False).head(10)"
   ]
  },
  {
   "cell_type": "markdown",
   "id": "97d05b17",
   "metadata": {},
   "source": [
    "* Which are the bottom 10 stores when it comes to Incremental Sold Units (ISU) during the promotional period?\n"
   ]
  },
  {
   "cell_type": "code",
   "execution_count": 14,
   "id": "17021399",
   "metadata": {},
   "outputs": [
    {
     "data": {
      "text/html": [
       "<div>\n",
       "<style scoped>\n",
       "    .dataframe tbody tr th:only-of-type {\n",
       "        vertical-align: middle;\n",
       "    }\n",
       "\n",
       "    .dataframe tbody tr th {\n",
       "        vertical-align: top;\n",
       "    }\n",
       "\n",
       "    .dataframe thead th {\n",
       "        text-align: right;\n",
       "    }\n",
       "</style>\n",
       "<table border=\"1\" class=\"dataframe\">\n",
       "  <thead>\n",
       "    <tr style=\"text-align: right;\">\n",
       "      <th></th>\n",
       "      <th>store_id</th>\n",
       "      <th>ISU</th>\n",
       "    </tr>\n",
       "  </thead>\n",
       "  <tbody>\n",
       "    <tr>\n",
       "      <th>34</th>\n",
       "      <td>STMLR-0</td>\n",
       "      <td>3978</td>\n",
       "    </tr>\n",
       "    <tr>\n",
       "      <th>48</th>\n",
       "      <td>STVSK-3</td>\n",
       "      <td>4553</td>\n",
       "    </tr>\n",
       "    <tr>\n",
       "      <th>49</th>\n",
       "      <td>STVSK-4</td>\n",
       "      <td>4988</td>\n",
       "    </tr>\n",
       "    <tr>\n",
       "      <th>42</th>\n",
       "      <td>STTRV-1</td>\n",
       "      <td>5072</td>\n",
       "    </tr>\n",
       "    <tr>\n",
       "      <th>44</th>\n",
       "      <td>STVJD-1</td>\n",
       "      <td>5302</td>\n",
       "    </tr>\n",
       "    <tr>\n",
       "      <th>41</th>\n",
       "      <td>STTRV-0</td>\n",
       "      <td>5306</td>\n",
       "    </tr>\n",
       "    <tr>\n",
       "      <th>36</th>\n",
       "      <td>STMLR-2</td>\n",
       "      <td>5374</td>\n",
       "    </tr>\n",
       "    <tr>\n",
       "      <th>35</th>\n",
       "      <td>STMLR-1</td>\n",
       "      <td>5481</td>\n",
       "    </tr>\n",
       "    <tr>\n",
       "      <th>43</th>\n",
       "      <td>STVJD-0</td>\n",
       "      <td>5870</td>\n",
       "    </tr>\n",
       "    <tr>\n",
       "      <th>14</th>\n",
       "      <td>STCBE-4</td>\n",
       "      <td>5942</td>\n",
       "    </tr>\n",
       "  </tbody>\n",
       "</table>\n",
       "</div>"
      ],
      "text/plain": [
       "   store_id   ISU\n",
       "34  STMLR-0  3978\n",
       "48  STVSK-3  4553\n",
       "49  STVSK-4  4988\n",
       "42  STTRV-1  5072\n",
       "44  STVJD-1  5302\n",
       "41  STTRV-0  5306\n",
       "36  STMLR-2  5374\n",
       "35  STMLR-1  5481\n",
       "43  STVJD-0  5870\n",
       "14  STCBE-4  5942"
      ]
     },
     "execution_count": 14,
     "metadata": {},
     "output_type": "execute_result"
    }
   ],
   "source": [
    "events['ISU'] = events['total_qty_after_promo'] - events['quantity_sold(before_promo)']\n",
    "events.groupby('store_id')[['ISU']].sum().reset_index().sort_values(by='ISU',ascending=True).head(10)"
   ]
  },
  {
   "cell_type": "markdown",
   "id": "87f3bfd9",
   "metadata": {},
   "source": [
    "* How does the performance of stores vary by city?"
   ]
  },
  {
   "cell_type": "code",
   "execution_count": 15,
   "id": "46b555dc",
   "metadata": {},
   "outputs": [
    {
     "data": {
      "text/html": [
       "<div>\n",
       "<style scoped>\n",
       "    .dataframe tbody tr th:only-of-type {\n",
       "        vertical-align: middle;\n",
       "    }\n",
       "\n",
       "    .dataframe tbody tr th {\n",
       "        vertical-align: top;\n",
       "    }\n",
       "\n",
       "    .dataframe thead th {\n",
       "        text-align: right;\n",
       "    }\n",
       "</style>\n",
       "<table border=\"1\" class=\"dataframe\">\n",
       "  <thead>\n",
       "    <tr style=\"text-align: right;\">\n",
       "      <th></th>\n",
       "      <th>city</th>\n",
       "      <th>total_rev_after_promo</th>\n",
       "      <th>total_rev_before_promo</th>\n",
       "    </tr>\n",
       "  </thead>\n",
       "  <tbody>\n",
       "    <tr>\n",
       "      <th>0</th>\n",
       "      <td>Bengaluru</td>\n",
       "      <td>71174628.79</td>\n",
       "      <td>32943279</td>\n",
       "    </tr>\n",
       "    <tr>\n",
       "      <th>1</th>\n",
       "      <td>Chennai</td>\n",
       "      <td>56999698.16</td>\n",
       "      <td>26286454</td>\n",
       "    </tr>\n",
       "    <tr>\n",
       "      <th>2</th>\n",
       "      <td>Coimbatore</td>\n",
       "      <td>25861276.99</td>\n",
       "      <td>12235954</td>\n",
       "    </tr>\n",
       "    <tr>\n",
       "      <th>3</th>\n",
       "      <td>Hyderabad</td>\n",
       "      <td>45391373.49</td>\n",
       "      <td>22678681</td>\n",
       "    </tr>\n",
       "    <tr>\n",
       "      <th>4</th>\n",
       "      <td>Madurai</td>\n",
       "      <td>22729208.01</td>\n",
       "      <td>10331552</td>\n",
       "    </tr>\n",
       "    <tr>\n",
       "      <th>5</th>\n",
       "      <td>Mangalore</td>\n",
       "      <td>10010135.20</td>\n",
       "      <td>5034816</td>\n",
       "    </tr>\n",
       "    <tr>\n",
       "      <th>6</th>\n",
       "      <td>Mysuru</td>\n",
       "      <td>26843127.28</td>\n",
       "      <td>12946287</td>\n",
       "    </tr>\n",
       "    <tr>\n",
       "      <th>7</th>\n",
       "      <td>Trivandrum</td>\n",
       "      <td>6697781.51</td>\n",
       "      <td>3201786</td>\n",
       "    </tr>\n",
       "    <tr>\n",
       "      <th>8</th>\n",
       "      <td>Vijayawada</td>\n",
       "      <td>7633080.12</td>\n",
       "      <td>3587937</td>\n",
       "    </tr>\n",
       "    <tr>\n",
       "      <th>9</th>\n",
       "      <td>Visakhapatnam</td>\n",
       "      <td>22266334.04</td>\n",
       "      <td>11454442</td>\n",
       "    </tr>\n",
       "  </tbody>\n",
       "</table>\n",
       "</div>"
      ],
      "text/plain": [
       "            city  total_rev_after_promo  total_rev_before_promo\n",
       "0      Bengaluru            71174628.79                32943279\n",
       "1        Chennai            56999698.16                26286454\n",
       "2     Coimbatore            25861276.99                12235954\n",
       "3      Hyderabad            45391373.49                22678681\n",
       "4        Madurai            22729208.01                10331552\n",
       "5      Mangalore            10010135.20                 5034816\n",
       "6         Mysuru            26843127.28                12946287\n",
       "7     Trivandrum             6697781.51                 3201786\n",
       "8     Vijayawada             7633080.12                 3587937\n",
       "9  Visakhapatnam            22266334.04                11454442"
      ]
     },
     "execution_count": 15,
     "metadata": {},
     "output_type": "execute_result"
    }
   ],
   "source": [
    "city_rev = pd.merge(events,stores,on='store_id').groupby('city')[['total_rev_after_promo','total_rev_before_promo']].sum().reset_index()\n",
    "city_rev"
   ]
  },
  {
   "cell_type": "code",
   "execution_count": 16,
   "id": "ddb1d206",
   "metadata": {},
   "outputs": [
    {
     "data": {
      "image/png": "[encoded data removed]",
      "text/plain": [
       "<Figure size 1080x432 with 1 Axes>"
      ]
     },
     "metadata": {
      "needs_background": "light"
     },
     "output_type": "display_data"
    }
   ],
   "source": [
    "import matplotlib.pyplot as plt\n",
    "\n",
    "plt.figure(figsize=(15, 6))\n",
    "\n",
    "\n",
    "plt.plot(city_rev['city'], city_rev['total_rev_after_promo'])\n",
    "plt.plot(city_rev['city'], city_rev['total_rev_before_promo'])\n",
    "\n",
    "plt.show()"
   ]
  },
  {
   "cell_type": "markdown",
   "id": "4003836e",
   "metadata": {},
   "source": [
    "* Are there any common characteristics among the top-performing stores that could be leveraged across other stores?"
   ]
  },
  {
   "cell_type": "code",
   "execution_count": 17,
   "id": "d7423203",
   "metadata": {},
   "outputs": [
    {
     "data": {
      "text/html": [
       "<div>\n",
       "<style scoped>\n",
       "    .dataframe tbody tr th:only-of-type {\n",
       "        vertical-align: middle;\n",
       "    }\n",
       "\n",
       "    .dataframe tbody tr th {\n",
       "        vertical-align: top;\n",
       "    }\n",
       "\n",
       "    .dataframe thead th {\n",
       "        text-align: right;\n",
       "    }\n",
       "</style>\n",
       "<table border=\"1\" class=\"dataframe\">\n",
       "  <thead>\n",
       "    <tr style=\"text-align: right;\">\n",
       "      <th></th>\n",
       "      <th>city</th>\n",
       "      <th>store_id</th>\n",
       "      <th>total_rev_after_promo</th>\n",
       "      <th>total_rev_before_promo</th>\n",
       "    </tr>\n",
       "  </thead>\n",
       "  <tbody>\n",
       "    <tr>\n",
       "      <th>34</th>\n",
       "      <td>Mangalore</td>\n",
       "      <td>STMLR-0</td>\n",
       "      <td>2846342.24</td>\n",
       "      <td>1630896</td>\n",
       "    </tr>\n",
       "    <tr>\n",
       "      <th>42</th>\n",
       "      <td>Trivandrum</td>\n",
       "      <td>STTRV-1</td>\n",
       "      <td>3207346.09</td>\n",
       "      <td>1518180</td>\n",
       "    </tr>\n",
       "    <tr>\n",
       "      <th>41</th>\n",
       "      <td>Trivandrum</td>\n",
       "      <td>STTRV-0</td>\n",
       "      <td>3490435.42</td>\n",
       "      <td>1683606</td>\n",
       "    </tr>\n",
       "    <tr>\n",
       "      <th>35</th>\n",
       "      <td>Mangalore</td>\n",
       "      <td>STMLR-1</td>\n",
       "      <td>3514173.88</td>\n",
       "      <td>1646250</td>\n",
       "    </tr>\n",
       "    <tr>\n",
       "      <th>36</th>\n",
       "      <td>Mangalore</td>\n",
       "      <td>STMLR-2</td>\n",
       "      <td>3649619.08</td>\n",
       "      <td>1757670</td>\n",
       "    </tr>\n",
       "  </tbody>\n",
       "</table>\n",
       "</div>"
      ],
      "text/plain": [
       "          city store_id  total_rev_after_promo  total_rev_before_promo\n",
       "34   Mangalore  STMLR-0             2846342.24                 1630896\n",
       "42  Trivandrum  STTRV-1             3207346.09                 1518180\n",
       "41  Trivandrum  STTRV-0             3490435.42                 1683606\n",
       "35   Mangalore  STMLR-1             3514173.88                 1646250\n",
       "36   Mangalore  STMLR-2             3649619.08                 1757670"
      ]
     },
     "execution_count": 17,
     "metadata": {},
     "output_type": "execute_result"
    }
   ],
   "source": [
    "city_store_rev = pd.merge(events,stores,on='store_id').groupby(['city','store_id'])[['total_rev_after_promo','total_rev_before_promo']].sum().reset_index()\n",
    "city_store_rev.sort_values(by='total_rev_after_promo').head()"
   ]
  },
  {
   "cell_type": "markdown",
   "id": "ff8c7a9c",
   "metadata": {},
   "source": [
    "**Promotion Type Analysis:**\n"
   ]
  },
  {
   "cell_type": "markdown",
   "id": "11f51608",
   "metadata": {},
   "source": [
    "* What are the top 2 promotion types that resulted in the highest Incremental Revenue?"
   ]
  },
  {
   "cell_type": "code",
   "execution_count": 18,
   "id": "ad506c63",
   "metadata": {},
   "outputs": [
    {
     "data": {
      "text/html": [
       "<div>\n",
       "<style scoped>\n",
       "    .dataframe tbody tr th:only-of-type {\n",
       "        vertical-align: middle;\n",
       "    }\n",
       "\n",
       "    .dataframe tbody tr th {\n",
       "        vertical-align: top;\n",
       "    }\n",
       "\n",
       "    .dataframe thead th {\n",
       "        text-align: right;\n",
       "    }\n",
       "</style>\n",
       "<table border=\"1\" class=\"dataframe\">\n",
       "  <thead>\n",
       "    <tr style=\"text-align: right;\">\n",
       "      <th></th>\n",
       "      <th>promo_type</th>\n",
       "      <th>IR</th>\n",
       "    </tr>\n",
       "  </thead>\n",
       "  <tbody>\n",
       "    <tr>\n",
       "      <th>3</th>\n",
       "      <td>500 Cashback</td>\n",
       "      <td>91053000.00</td>\n",
       "    </tr>\n",
       "    <tr>\n",
       "      <th>4</th>\n",
       "      <td>BOGOF</td>\n",
       "      <td>69316990.00</td>\n",
       "    </tr>\n",
       "  </tbody>\n",
       "</table>\n",
       "</div>"
      ],
      "text/plain": [
       "     promo_type          IR\n",
       "3  500 Cashback 91053000.00\n",
       "4         BOGOF 69316990.00"
      ]
     },
     "execution_count": 18,
     "metadata": {},
     "output_type": "execute_result"
    }
   ],
   "source": [
    "events['IR'] = events['total_rev_after_promo'] - events['total_rev_before_promo']\n",
    "events.groupby('promo_type')[['IR']].sum().reset_index().sort_values(by='IR',ascending=False).head(2)"
   ]
  },
  {
   "cell_type": "markdown",
   "id": "8e6a4c77",
   "metadata": {},
   "source": [
    "* What are the bottom 2 promotion types in terms of their impact on Incremental Sold Units?"
   ]
  },
  {
   "cell_type": "code",
   "execution_count": 19,
   "id": "d9e24b13",
   "metadata": {},
   "outputs": [
    {
     "data": {
      "text/html": [
       "<div>\n",
       "<style scoped>\n",
       "    .dataframe tbody tr th:only-of-type {\n",
       "        vertical-align: middle;\n",
       "    }\n",
       "\n",
       "    .dataframe tbody tr th {\n",
       "        vertical-align: top;\n",
       "    }\n",
       "\n",
       "    .dataframe thead th {\n",
       "        text-align: right;\n",
       "    }\n",
       "</style>\n",
       "<table border=\"1\" class=\"dataframe\">\n",
       "  <thead>\n",
       "    <tr style=\"text-align: right;\">\n",
       "      <th></th>\n",
       "      <th>promo_type</th>\n",
       "      <th>ISU</th>\n",
       "    </tr>\n",
       "  </thead>\n",
       "  <tbody>\n",
       "    <tr>\n",
       "      <th>0</th>\n",
       "      <td>25% OFF</td>\n",
       "      <td>-5717</td>\n",
       "    </tr>\n",
       "    <tr>\n",
       "      <th>2</th>\n",
       "      <td>50% OFF</td>\n",
       "      <td>6931</td>\n",
       "    </tr>\n",
       "  </tbody>\n",
       "</table>\n",
       "</div>"
      ],
      "text/plain": [
       "  promo_type   ISU\n",
       "0    25% OFF -5717\n",
       "2    50% OFF  6931"
      ]
     },
     "execution_count": 19,
     "metadata": {},
     "output_type": "execute_result"
    }
   ],
   "source": [
    "events.groupby('promo_type')[['ISU']].sum().reset_index().sort_values(by='ISU',ascending=True).head(2)"
   ]
  },
  {
   "cell_type": "markdown",
   "id": "aa69313d",
   "metadata": {},
   "source": [
    "* Is there a significant difference in the performance of discount-based promotions versus BOGOF (Buy One Get One Free) or cashback promotions?\n"
   ]
  },
  {
   "cell_type": "code",
   "execution_count": 59,
   "id": "3f04c61d",
   "metadata": {},
   "outputs": [],
   "source": [
    "# The IR and ISU value is higher for BOGOF (Buy One Get One Free) or cashback promotions, instead of discount-based promotions."
   ]
  },
  {
   "cell_type": "markdown",
   "id": "dc6904c5",
   "metadata": {},
   "source": [
    "* Which promotions strike the best balance between Incremental Sold Units and maintaining healthy margins?"
   ]
  },
  {
   "cell_type": "code",
   "execution_count": 60,
   "id": "4c5c938d",
   "metadata": {},
   "outputs": [
    {
     "data": {
      "text/plain": [
       "<AxesSubplot:xlabel='promo_type'>"
      ]
     },
     "execution_count": 60,
     "metadata": {},
     "output_type": "execute_result"
    },
    {
     "data": {
      "image/png": "[encoded data removed]",
      "text/plain": [
       "<Figure size 432x288 with 1 Axes>"
      ]
     },
     "metadata": {
      "needs_background": "light"
     },
     "output_type": "display_data"
    }
   ],
   "source": [
    "promo = events.groupby('promo_type')[['IR','ISU']].sum().reset_index().sort_values(by='ISU',ascending=False)\n",
    "promo['margin'] = promo['IR']/promo['ISU']\n",
    "promo.sort_values(by='margin',ascending=False)\n",
    "\n",
    "\n",
    "promo.plot(kind='bar',x='promo_type',y='margin')"
   ]
  },
  {
   "cell_type": "markdown",
   "id": "947b2428",
   "metadata": {},
   "source": [
    "**Product and Category Analysis:**"
   ]
  },
  {
   "cell_type": "markdown",
   "id": "9529a777",
   "metadata": {},
   "source": [
    "* Which product categories saw the most significant lift in sales from the promotions?"
   ]
  },
  {
   "cell_type": "code",
   "execution_count": 62,
   "id": "89a3ba46",
   "metadata": {},
   "outputs": [
    {
     "data": {
      "text/html": [
       "<div>\n",
       "<style scoped>\n",
       "    .dataframe tbody tr th:only-of-type {\n",
       "        vertical-align: middle;\n",
       "    }\n",
       "\n",
       "    .dataframe tbody tr th {\n",
       "        vertical-align: top;\n",
       "    }\n",
       "\n",
       "    .dataframe thead th {\n",
       "        text-align: right;\n",
       "    }\n",
       "</style>\n",
       "<table border=\"1\" class=\"dataframe\">\n",
       "  <thead>\n",
       "    <tr style=\"text-align: right;\">\n",
       "      <th></th>\n",
       "      <th>category</th>\n",
       "      <th>total_rev_after_promo</th>\n",
       "    </tr>\n",
       "  </thead>\n",
       "  <tbody>\n",
       "    <tr>\n",
       "      <th>0</th>\n",
       "      <td>Combo1</td>\n",
       "      <td>157950000.00</td>\n",
       "    </tr>\n",
       "    <tr>\n",
       "      <th>1</th>\n",
       "      <td>Grocery &amp; Staples</td>\n",
       "      <td>76984739.84</td>\n",
       "    </tr>\n",
       "    <tr>\n",
       "      <th>2</th>\n",
       "      <td>Home Appliances</td>\n",
       "      <td>34633500.00</td>\n",
       "    </tr>\n",
       "    <tr>\n",
       "      <th>3</th>\n",
       "      <td>Home Care</td>\n",
       "      <td>24411661.25</td>\n",
       "    </tr>\n",
       "    <tr>\n",
       "      <th>4</th>\n",
       "      <td>Personal Care</td>\n",
       "      <td>1626742.50</td>\n",
       "    </tr>\n",
       "  </tbody>\n",
       "</table>\n",
       "</div>"
      ],
      "text/plain": [
       "            category  total_rev_after_promo\n",
       "0             Combo1           157950000.00\n",
       "1  Grocery & Staples            76984739.84\n",
       "2    Home Appliances            34633500.00\n",
       "3          Home Care            24411661.25\n",
       "4      Personal Care             1626742.50"
      ]
     },
     "execution_count": 62,
     "metadata": {},
     "output_type": "execute_result"
    }
   ],
   "source": [
    "pro_cat = pd.merge(events,products,on='product_code',how='inner')\n",
    "pro_cat.groupby('category')[['total_rev_after_promo']].sum().reset_index().sort_values(by='total_rev_after_promo',ascending=False)"
   ]
  },
  {
   "cell_type": "markdown",
   "id": "dfbbb6ab",
   "metadata": {},
   "source": [
    "* Are there specific products that respond exceptionally well or poorly to promotions?"
   ]
  },
  {
   "cell_type": "code",
   "execution_count": 63,
   "id": "5b1f4e4c",
   "metadata": {},
   "outputs": [
    {
     "data": {
      "text/html": [
       "<div>\n",
       "<style scoped>\n",
       "    .dataframe tbody tr th:only-of-type {\n",
       "        vertical-align: middle;\n",
       "    }\n",
       "\n",
       "    .dataframe tbody tr th {\n",
       "        vertical-align: top;\n",
       "    }\n",
       "\n",
       "    .dataframe thead th {\n",
       "        text-align: right;\n",
       "    }\n",
       "</style>\n",
       "<table border=\"1\" class=\"dataframe\">\n",
       "  <thead>\n",
       "    <tr style=\"text-align: right;\">\n",
       "      <th></th>\n",
       "      <th>product_code</th>\n",
       "      <th>IR</th>\n",
       "      <th>ISU</th>\n",
       "    </tr>\n",
       "  </thead>\n",
       "  <tbody>\n",
       "    <tr>\n",
       "      <th>14</th>\n",
       "      <td>P15</td>\n",
       "      <td>91053000.00</td>\n",
       "      <td>40881</td>\n",
       "    </tr>\n",
       "    <tr>\n",
       "      <th>13</th>\n",
       "      <td>P14</td>\n",
       "      <td>17561340.00</td>\n",
       "      <td>40902</td>\n",
       "    </tr>\n",
       "    <tr>\n",
       "      <th>3</th>\n",
       "      <td>P04</td>\n",
       "      <td>17363475.00</td>\n",
       "      <td>118030</td>\n",
       "    </tr>\n",
       "    <tr>\n",
       "      <th>7</th>\n",
       "      <td>P08</td>\n",
       "      <td>12917450.00</td>\n",
       "      <td>25913</td>\n",
       "    </tr>\n",
       "    <tr>\n",
       "      <th>2</th>\n",
       "      <td>P03</td>\n",
       "      <td>8192769.00</td>\n",
       "      <td>104354</td>\n",
       "    </tr>\n",
       "    <tr>\n",
       "      <th>12</th>\n",
       "      <td>P13</td>\n",
       "      <td>7589050.00</td>\n",
       "      <td>51611</td>\n",
       "    </tr>\n",
       "    <tr>\n",
       "      <th>6</th>\n",
       "      <td>P07</td>\n",
       "      <td>3517500.00</td>\n",
       "      <td>28042</td>\n",
       "    </tr>\n",
       "    <tr>\n",
       "      <th>4</th>\n",
       "      <td>P05</td>\n",
       "      <td>-111278.75</td>\n",
       "      <td>-777</td>\n",
       "    </tr>\n",
       "    <tr>\n",
       "      <th>9</th>\n",
       "      <td>P10</td>\n",
       "      <td>-137752.50</td>\n",
       "      <td>1317</td>\n",
       "    </tr>\n",
       "    <tr>\n",
       "      <th>11</th>\n",
       "      <td>P12</td>\n",
       "      <td>-159836.00</td>\n",
       "      <td>2562</td>\n",
       "    </tr>\n",
       "    <tr>\n",
       "      <th>0</th>\n",
       "      <td>P01</td>\n",
       "      <td>-175703.16</td>\n",
       "      <td>11301</td>\n",
       "    </tr>\n",
       "    <tr>\n",
       "      <th>8</th>\n",
       "      <td>P09</td>\n",
       "      <td>-216170.00</td>\n",
       "      <td>556</td>\n",
       "    </tr>\n",
       "    <tr>\n",
       "      <th>10</th>\n",
       "      <td>P11</td>\n",
       "      <td>-331740.00</td>\n",
       "      <td>1765</td>\n",
       "    </tr>\n",
       "    <tr>\n",
       "      <th>5</th>\n",
       "      <td>P06</td>\n",
       "      <td>-768995.00</td>\n",
       "      <td>-735</td>\n",
       "    </tr>\n",
       "    <tr>\n",
       "      <th>1</th>\n",
       "      <td>P02</td>\n",
       "      <td>-1387653.00</td>\n",
       "      <td>15954</td>\n",
       "    </tr>\n",
       "  </tbody>\n",
       "</table>\n",
       "</div>"
      ],
      "text/plain": [
       "   product_code          IR     ISU\n",
       "14          P15 91053000.00   40881\n",
       "13          P14 17561340.00   40902\n",
       "3           P04 17363475.00  118030\n",
       "7           P08 12917450.00   25913\n",
       "2           P03  8192769.00  104354\n",
       "12          P13  7589050.00   51611\n",
       "6           P07  3517500.00   28042\n",
       "4           P05  -111278.75    -777\n",
       "9           P10  -137752.50    1317\n",
       "11          P12  -159836.00    2562\n",
       "0           P01  -175703.16   11301\n",
       "8           P09  -216170.00     556\n",
       "10          P11  -331740.00    1765\n",
       "5           P06  -768995.00    -735\n",
       "1           P02 -1387653.00   15954"
      ]
     },
     "execution_count": 63,
     "metadata": {},
     "output_type": "execute_result"
    }
   ],
   "source": [
    "events.groupby('product_code')[['IR','ISU']].sum().reset_index().sort_values(by='IR',ascending=False)"
   ]
  },
  {
   "cell_type": "markdown",
   "id": "1b157a23",
   "metadata": {},
   "source": [
    "* What is the correlation between product category and promotion type effectiveness?"
   ]
  },
  {
   "cell_type": "code",
   "execution_count": 64,
   "id": "d40e30fc",
   "metadata": {},
   "outputs": [
    {
     "data": {
      "text/html": [
       "<div>\n",
       "<style scoped>\n",
       "    .dataframe tbody tr th:only-of-type {\n",
       "        vertical-align: middle;\n",
       "    }\n",
       "\n",
       "    .dataframe tbody tr th {\n",
       "        vertical-align: top;\n",
       "    }\n",
       "\n",
       "    .dataframe thead th {\n",
       "        text-align: right;\n",
       "    }\n",
       "</style>\n",
       "<table border=\"1\" class=\"dataframe\">\n",
       "  <thead>\n",
       "    <tr style=\"text-align: right;\">\n",
       "      <th></th>\n",
       "      <th>category</th>\n",
       "      <th>promo_type</th>\n",
       "      <th>IR</th>\n",
       "      <th>ISU</th>\n",
       "    </tr>\n",
       "  </thead>\n",
       "  <tbody>\n",
       "    <tr>\n",
       "      <th>0</th>\n",
       "      <td>Combo1</td>\n",
       "      <td>500 Cashback</td>\n",
       "      <td>91053000.00</td>\n",
       "      <td>40881</td>\n",
       "    </tr>\n",
       "    <tr>\n",
       "      <th>1</th>\n",
       "      <td>Grocery &amp; Staples</td>\n",
       "      <td>25% OFF</td>\n",
       "      <td>-2175406.00</td>\n",
       "      <td>-3474</td>\n",
       "    </tr>\n",
       "    <tr>\n",
       "      <th>2</th>\n",
       "      <td>Grocery &amp; Staples</td>\n",
       "      <td>33% OFF</td>\n",
       "      <td>-1563356.16</td>\n",
       "      <td>27255</td>\n",
       "    </tr>\n",
       "    <tr>\n",
       "      <th>3</th>\n",
       "      <td>Grocery &amp; Staples</td>\n",
       "      <td>BOGOF</td>\n",
       "      <td>27731650.00</td>\n",
       "      <td>225858</td>\n",
       "    </tr>\n",
       "    <tr>\n",
       "      <th>4</th>\n",
       "      <td>Home Appliances</td>\n",
       "      <td>BOGOF</td>\n",
       "      <td>25150390.00</td>\n",
       "      <td>92513</td>\n",
       "    </tr>\n",
       "    <tr>\n",
       "      <th>5</th>\n",
       "      <td>Home Care</td>\n",
       "      <td>25% OFF</td>\n",
       "      <td>-880273.75</td>\n",
       "      <td>-1512</td>\n",
       "    </tr>\n",
       "    <tr>\n",
       "      <th>6</th>\n",
       "      <td>Home Care</td>\n",
       "      <td>BOGOF</td>\n",
       "      <td>16434950.00</td>\n",
       "      <td>53955</td>\n",
       "    </tr>\n",
       "    <tr>\n",
       "      <th>7</th>\n",
       "      <td>Personal Care</td>\n",
       "      <td>25% OFF</td>\n",
       "      <td>-118835.00</td>\n",
       "      <td>-731</td>\n",
       "    </tr>\n",
       "    <tr>\n",
       "      <th>8</th>\n",
       "      <td>Personal Care</td>\n",
       "      <td>50% OFF</td>\n",
       "      <td>-726663.50</td>\n",
       "      <td>6931</td>\n",
       "    </tr>\n",
       "  </tbody>\n",
       "</table>\n",
       "</div>"
      ],
      "text/plain": [
       "            category    promo_type          IR     ISU\n",
       "0             Combo1  500 Cashback 91053000.00   40881\n",
       "1  Grocery & Staples       25% OFF -2175406.00   -3474\n",
       "2  Grocery & Staples       33% OFF -1563356.16   27255\n",
       "3  Grocery & Staples         BOGOF 27731650.00  225858\n",
       "4    Home Appliances         BOGOF 25150390.00   92513\n",
       "5          Home Care       25% OFF  -880273.75   -1512\n",
       "6          Home Care         BOGOF 16434950.00   53955\n",
       "7      Personal Care       25% OFF  -118835.00    -731\n",
       "8      Personal Care       50% OFF  -726663.50    6931"
      ]
     },
     "execution_count": 64,
     "metadata": {},
     "output_type": "execute_result"
    }
   ],
   "source": [
    "pro_cat2 = pro_cat.groupby(['category','promo_type'])[['IR','ISU']].sum().reset_index()\n",
    "pro_cat2"
   ]
  },
  {
   "cell_type": "code",
   "execution_count": 65,
   "id": "fa42a2d4",
   "metadata": {},
   "outputs": [
    {
     "data": {
      "text/plain": [
       "category\n",
       "Combo1                NaN\n",
       "Grocery & Staples    0.85\n",
       "Home Appliances       NaN\n",
       "Home Care            0.73\n",
       "Personal Care       -0.40\n",
       "Name: IR, dtype: float64"
      ]
     },
     "execution_count": 65,
     "metadata": {},
     "output_type": "execute_result"
    }
   ],
   "source": [
    "pro_cat.groupby('category')['IR'].corr(pro_cat['promo_type'].astype('category').cat.codes)"
   ]
  },
  {
   "cell_type": "code",
   "execution_count": 66,
   "id": "422a0a3e",
   "metadata": {},
   "outputs": [
    {
     "data": {
      "text/plain": [
       "category\n",
       "Combo1               NaN\n",
       "Grocery & Staples   0.91\n",
       "Home Appliances      NaN\n",
       "Home Care           0.91\n",
       "Personal Care       0.74\n",
       "Name: ISU, dtype: float64"
      ]
     },
     "execution_count": 66,
     "metadata": {},
     "output_type": "execute_result"
    }
   ],
   "source": [
    "pro_cat.groupby('category')['ISU'].corr(pro_cat['promo_type'].astype('category').cat.codes)"
   ]
  },
  {
   "cell_type": "markdown",
   "id": "434251f4",
   "metadata": {},
   "source": [
    "## Business Requests"
   ]
  },
  {
   "cell_type": "markdown",
   "id": "29f0255b",
   "metadata": {},
   "source": [
    "1. Provide a list of products with a base price greater than 500 and that are featured in promo type of 'BOGOF' (Buy One Get One Free). This information will help us identify high-value products that are currently being heavily discounted, which can be useful for evaluating our pricing and promotion strategies."
   ]
  },
  {
   "cell_type": "code",
   "execution_count": 67,
   "id": "bb9b5500",
   "metadata": {},
   "outputs": [
    {
     "data": {
      "text/html": [
       "<div>\n",
       "<style scoped>\n",
       "    .dataframe tbody tr th:only-of-type {\n",
       "        vertical-align: middle;\n",
       "    }\n",
       "\n",
       "    .dataframe tbody tr th {\n",
       "        vertical-align: top;\n",
       "    }\n",
       "\n",
       "    .dataframe thead th {\n",
       "        text-align: right;\n",
       "    }\n",
       "</style>\n",
       "<table border=\"1\" class=\"dataframe\">\n",
       "  <thead>\n",
       "    <tr style=\"text-align: right;\">\n",
       "      <th></th>\n",
       "      <th>product_code</th>\n",
       "      <th>product_name</th>\n",
       "      <th>category</th>\n",
       "      <th>base_price</th>\n",
       "    </tr>\n",
       "  </thead>\n",
       "  <tbody>\n",
       "    <tr>\n",
       "      <th>0</th>\n",
       "      <td>P14</td>\n",
       "      <td>Atliq_waterproof_Immersion_Rod</td>\n",
       "      <td>Home Appliances</td>\n",
       "      <td>1020</td>\n",
       "    </tr>\n",
       "    <tr>\n",
       "      <th>1</th>\n",
       "      <td>P08</td>\n",
       "      <td>Atliq_Double_Bedsheet_set</td>\n",
       "      <td>Home Care</td>\n",
       "      <td>1190</td>\n",
       "    </tr>\n",
       "  </tbody>\n",
       "</table>\n",
       "</div>"
      ],
      "text/plain": [
       "  product_code                    product_name         category  base_price\n",
       "0          P14  Atliq_waterproof_Immersion_Rod  Home Appliances        1020\n",
       "1          P08       Atliq_Double_Bedsheet_set        Home Care        1190"
      ]
     },
     "execution_count": 67,
     "metadata": {},
     "output_type": "execute_result"
    }
   ],
   "source": [
    "events[(events['base_price'] > 500) & (events['promo_type'] == 'BOGOF')]['product_code'].unique()\n",
    "\n",
    "pro = events[(events['base_price'] > 500) & (events['promo_type'] == 'BOGOF')][['product_code','base_price']].drop_duplicates()\n",
    "pd.merge(products, pro,on='product_code', how='inner')"
   ]
  },
  {
   "cell_type": "markdown",
   "id": "caac2a40",
   "metadata": {},
   "source": [
    "2. Generate a report that provides an overview of the number of stores in each city. The results will be sorted in descending order of store counts, allowing us to identify the cities with the highest store presence. The report includes two essential fields: city and store count, which will assist in optimizing our retail operations."
   ]
  },
  {
   "cell_type": "code",
   "execution_count": 68,
   "id": "04443864",
   "metadata": {},
   "outputs": [
    {
     "data": {
      "text/html": [
       "<div>\n",
       "<style scoped>\n",
       "    .dataframe tbody tr th:only-of-type {\n",
       "        vertical-align: middle;\n",
       "    }\n",
       "\n",
       "    .dataframe tbody tr th {\n",
       "        vertical-align: top;\n",
       "    }\n",
       "\n",
       "    .dataframe thead th {\n",
       "        text-align: right;\n",
       "    }\n",
       "</style>\n",
       "<table border=\"1\" class=\"dataframe\">\n",
       "  <thead>\n",
       "    <tr style=\"text-align: right;\">\n",
       "      <th></th>\n",
       "      <th>city</th>\n",
       "      <th>count_of_stores</th>\n",
       "    </tr>\n",
       "  </thead>\n",
       "  <tbody>\n",
       "    <tr>\n",
       "      <th>0</th>\n",
       "      <td>Bengaluru</td>\n",
       "      <td>10</td>\n",
       "    </tr>\n",
       "    <tr>\n",
       "      <th>1</th>\n",
       "      <td>Chennai</td>\n",
       "      <td>8</td>\n",
       "    </tr>\n",
       "    <tr>\n",
       "      <th>3</th>\n",
       "      <td>Hyderabad</td>\n",
       "      <td>7</td>\n",
       "    </tr>\n",
       "    <tr>\n",
       "      <th>2</th>\n",
       "      <td>Coimbatore</td>\n",
       "      <td>5</td>\n",
       "    </tr>\n",
       "    <tr>\n",
       "      <th>9</th>\n",
       "      <td>Visakhapatnam</td>\n",
       "      <td>5</td>\n",
       "    </tr>\n",
       "    <tr>\n",
       "      <th>4</th>\n",
       "      <td>Madurai</td>\n",
       "      <td>4</td>\n",
       "    </tr>\n",
       "    <tr>\n",
       "      <th>6</th>\n",
       "      <td>Mysuru</td>\n",
       "      <td>4</td>\n",
       "    </tr>\n",
       "    <tr>\n",
       "      <th>5</th>\n",
       "      <td>Mangalore</td>\n",
       "      <td>3</td>\n",
       "    </tr>\n",
       "    <tr>\n",
       "      <th>7</th>\n",
       "      <td>Trivandrum</td>\n",
       "      <td>2</td>\n",
       "    </tr>\n",
       "    <tr>\n",
       "      <th>8</th>\n",
       "      <td>Vijayawada</td>\n",
       "      <td>2</td>\n",
       "    </tr>\n",
       "  </tbody>\n",
       "</table>\n",
       "</div>"
      ],
      "text/plain": [
       "            city  count_of_stores\n",
       "0      Bengaluru               10\n",
       "1        Chennai                8\n",
       "3      Hyderabad                7\n",
       "2     Coimbatore                5\n",
       "9  Visakhapatnam                5\n",
       "4        Madurai                4\n",
       "6         Mysuru                4\n",
       "5      Mangalore                3\n",
       "7     Trivandrum                2\n",
       "8     Vijayawada                2"
      ]
     },
     "execution_count": 68,
     "metadata": {},
     "output_type": "execute_result"
    }
   ],
   "source": [
    "store_city = pd.merge(events,stores,on='store_id',how='inner')\n",
    "store_city.groupby('city').agg(count_of_stores=('store_id','nunique')).reset_index().sort_values(by='count_of_stores',ascending=False)"
   ]
  },
  {
   "cell_type": "markdown",
   "id": "a1626cf2",
   "metadata": {},
   "source": [
    "3. Generate a report that displays each campaign along with the total revenue generated before and after the campaign? The report includes three key fields: campaign_name, total_revenue (before_promotion), total_revenue(after_promotion). This report should help in evaluating the financial impact of our promotional campaigns. (Display the values in millions)"
   ]
  },
  {
   "cell_type": "code",
   "execution_count": 69,
   "id": "1e35ce15",
   "metadata": {},
   "outputs": [
    {
     "data": {
      "text/html": [
       "<div>\n",
       "<style scoped>\n",
       "    .dataframe tbody tr th:only-of-type {\n",
       "        vertical-align: middle;\n",
       "    }\n",
       "\n",
       "    .dataframe tbody tr th {\n",
       "        vertical-align: top;\n",
       "    }\n",
       "\n",
       "    .dataframe thead th {\n",
       "        text-align: right;\n",
       "    }\n",
       "</style>\n",
       "<table border=\"1\" class=\"dataframe\">\n",
       "  <thead>\n",
       "    <tr style=\"text-align: right;\">\n",
       "      <th></th>\n",
       "      <th>campaign_name</th>\n",
       "      <th>total_rev_before_promo</th>\n",
       "      <th>total_rev_after_promo</th>\n",
       "    </tr>\n",
       "  </thead>\n",
       "  <tbody>\n",
       "    <tr>\n",
       "      <th>0</th>\n",
       "      <td>Diwali</td>\n",
       "      <td>82573759</td>\n",
       "      <td>171459776.98</td>\n",
       "    </tr>\n",
       "    <tr>\n",
       "      <th>1</th>\n",
       "      <td>Sankranti</td>\n",
       "      <td>58127429</td>\n",
       "      <td>124146866.61</td>\n",
       "    </tr>\n",
       "  </tbody>\n",
       "</table>\n",
       "</div>"
      ],
      "text/plain": [
       "  campaign_name  total_rev_before_promo  total_rev_after_promo\n",
       "0        Diwali                82573759           171459776.98\n",
       "1     Sankranti                58127429           124146866.61"
      ]
     },
     "execution_count": 69,
     "metadata": {},
     "output_type": "execute_result"
    }
   ],
   "source": [
    "events['total_rev_before_promo'] = events['base_price'] * events['quantity_sold(before_promo)']\n",
    "events['total_qty_after_promo'] = np.where(events['promo_type'] == 'BOGOF', 2 *  events['quantity_sold(after_promo)'], events['quantity_sold(after_promo)'])\n",
    "events['discount'] = np.where(events['promo_type'] == '50% OFF', 0.50 * events['base_price'] * events['total_qty_after_promo'],np.where(events['promo_type'] == '25% OFF', 0.25 * events['base_price'] * events['total_qty_after_promo'],np.where(events['promo_type'] == '33% OFF', 0.33 * events['base_price'] * events['total_qty_after_promo'],np.where(events['promo_type'] == 'BOGOF', 0.50 * events['base_price'] * events['total_qty_after_promo'],  500 * events['total_qty_after_promo']))))\n",
    "events['total_rev_after_promo'] = (events['base_price'] * events['total_qty_after_promo']) - events['discount']\n",
    "\n",
    "event_camp = pd.merge(events,campaigns,on='campaign_id',how='inner')\n",
    "event_camp.groupby('campaign_name')[['total_rev_before_promo','total_rev_after_promo']].sum().reset_index()"
   ]
  },
  {
   "cell_type": "markdown",
   "id": "b4346deb",
   "metadata": {},
   "source": [
    "4. Produce a report that calculates the Incremental Sold Quantity (ISU%) for each category during the Diwali campaign. Additionally, provide rankings for the categories based on their ISU%. The report will include three key fields: category, isu%, and rank order. This information will assist in assessing the category-wise success and impact of the Diwali campaign on incremental sales.\n",
    "Note: ISU% (Incremental Sold Quantity Percentage) is calculated as the percentage increase/decrease in quantity sold (after promo) compared to quantity sold (before promo)"
   ]
  },
  {
   "cell_type": "code",
   "execution_count": 70,
   "id": "33af53cc",
   "metadata": {},
   "outputs": [
    {
     "data": {
      "text/html": [
       "<div>\n",
       "<style scoped>\n",
       "    .dataframe tbody tr th:only-of-type {\n",
       "        vertical-align: middle;\n",
       "    }\n",
       "\n",
       "    .dataframe tbody tr th {\n",
       "        vertical-align: top;\n",
       "    }\n",
       "\n",
       "    .dataframe thead th {\n",
       "        text-align: right;\n",
       "    }\n",
       "</style>\n",
       "<table border=\"1\" class=\"dataframe\">\n",
       "  <thead>\n",
       "    <tr style=\"text-align: right;\">\n",
       "      <th></th>\n",
       "      <th>category</th>\n",
       "      <th>quantity_sold(before_promo)</th>\n",
       "      <th>total_qty_after_promo</th>\n",
       "      <th>ISU</th>\n",
       "      <th>ISU%</th>\n",
       "    </tr>\n",
       "  </thead>\n",
       "  <tbody>\n",
       "    <tr>\n",
       "      <th>2</th>\n",
       "      <td>Home Appliances</td>\n",
       "      <td>5230</td>\n",
       "      <td>36006</td>\n",
       "      <td>30776</td>\n",
       "      <td>588.45</td>\n",
       "    </tr>\n",
       "    <tr>\n",
       "      <th>3</th>\n",
       "      <td>Home Care</td>\n",
       "      <td>13326</td>\n",
       "      <td>40396</td>\n",
       "      <td>27070</td>\n",
       "      <td>203.14</td>\n",
       "    </tr>\n",
       "    <tr>\n",
       "      <th>0</th>\n",
       "      <td>Combo1</td>\n",
       "      <td>16791</td>\n",
       "      <td>50769</td>\n",
       "      <td>33978</td>\n",
       "      <td>202.36</td>\n",
       "    </tr>\n",
       "    <tr>\n",
       "      <th>4</th>\n",
       "      <td>Personal Care</td>\n",
       "      <td>16843</td>\n",
       "      <td>22074</td>\n",
       "      <td>5231</td>\n",
       "      <td>31.06</td>\n",
       "    </tr>\n",
       "    <tr>\n",
       "      <th>1</th>\n",
       "      <td>Grocery &amp; Staples</td>\n",
       "      <td>58129</td>\n",
       "      <td>68620</td>\n",
       "      <td>10491</td>\n",
       "      <td>18.05</td>\n",
       "    </tr>\n",
       "  </tbody>\n",
       "</table>\n",
       "</div>"
      ],
      "text/plain": [
       "            category  quantity_sold(before_promo)  total_qty_after_promo  \\\n",
       "2    Home Appliances                         5230                  36006   \n",
       "3          Home Care                        13326                  40396   \n",
       "0             Combo1                        16791                  50769   \n",
       "4      Personal Care                        16843                  22074   \n",
       "1  Grocery & Staples                        58129                  68620   \n",
       "\n",
       "     ISU   ISU%  \n",
       "2  30776 588.45  \n",
       "3  27070 203.14  \n",
       "0  33978 202.36  \n",
       "4   5231  31.06  \n",
       "1  10491  18.05  "
      ]
     },
     "execution_count": 70,
     "metadata": {},
     "output_type": "execute_result"
    }
   ],
   "source": [
    "events_cat = pd.merge(events,products,on='product_code',how='inner')\n",
    "events_cat = events_cat[events_cat['campaign_id'] == 'CAMP_DIW_01']\n",
    "\n",
    "cat_isu = events_cat.groupby('category')[['quantity_sold(before_promo)','total_qty_after_promo']].sum().reset_index()\n",
    "cat_isu['ISU'] = cat_isu['total_qty_after_promo'] - cat_isu['quantity_sold(before_promo)']\n",
    "cat_isu['ISU%'] = 100*(cat_isu['total_qty_after_promo'] - cat_isu['quantity_sold(before_promo)'])/cat_isu['quantity_sold(before_promo)']\n",
    "cat_isu.sort_values(by='ISU%',ascending=False).round(2)"
   ]
  },
  {
   "cell_type": "markdown",
   "id": "bfeec99c",
   "metadata": {},
   "source": [
    "5. Create a report featuring the Top 5 products, ranked by Incremental Revenue Percentage (IR%), across all campaigns. The report will provide essential information including product name, category, and ir%. This analysis helps identify the most successful products in terms of incremental revenue across our campaigns, assisting in product optimization."
   ]
  },
  {
   "cell_type": "code",
   "execution_count": 71,
   "id": "2945ebf9",
   "metadata": {},
   "outputs": [
    {
     "data": {
      "text/html": [
       "<div>\n",
       "<style scoped>\n",
       "    .dataframe tbody tr th:only-of-type {\n",
       "        vertical-align: middle;\n",
       "    }\n",
       "\n",
       "    .dataframe tbody tr th {\n",
       "        vertical-align: top;\n",
       "    }\n",
       "\n",
       "    .dataframe thead th {\n",
       "        text-align: right;\n",
       "    }\n",
       "</style>\n",
       "<table border=\"1\" class=\"dataframe\">\n",
       "  <thead>\n",
       "    <tr style=\"text-align: right;\">\n",
       "      <th></th>\n",
       "      <th>product_name</th>\n",
       "      <th>category</th>\n",
       "      <th>total_rev_before_promo</th>\n",
       "      <th>total_rev_after_promo</th>\n",
       "      <th>IR</th>\n",
       "      <th>IR%</th>\n",
       "    </tr>\n",
       "  </thead>\n",
       "  <tbody>\n",
       "    <tr>\n",
       "      <th>14</th>\n",
       "      <td>Atliq_waterproof_Immersion_Rod</td>\n",
       "      <td>Home Appliances</td>\n",
       "      <td>6597360</td>\n",
       "      <td>24158700.00</td>\n",
       "      <td>17561340.00</td>\n",
       "      <td>266.19</td>\n",
       "    </tr>\n",
       "    <tr>\n",
       "      <th>7</th>\n",
       "      <td>Atliq_High_Glo_15W_LED_Bulb</td>\n",
       "      <td>Home Appliances</td>\n",
       "      <td>2885750</td>\n",
       "      <td>10474800.00</td>\n",
       "      <td>7589050.00</td>\n",
       "      <td>262.98</td>\n",
       "    </tr>\n",
       "    <tr>\n",
       "      <th>4</th>\n",
       "      <td>Atliq_Double_Bedsheet_set</td>\n",
       "      <td>Home Care</td>\n",
       "      <td>5001570</td>\n",
       "      <td>17919020.00</td>\n",
       "      <td>12917450.00</td>\n",
       "      <td>258.27</td>\n",
       "    </tr>\n",
       "    <tr>\n",
       "      <th>2</th>\n",
       "      <td>Atliq_Curtains</td>\n",
       "      <td>Home Care</td>\n",
       "      <td>1377600</td>\n",
       "      <td>4895100.00</td>\n",
       "      <td>3517500.00</td>\n",
       "      <td>255.34</td>\n",
       "    </tr>\n",
       "    <tr>\n",
       "      <th>5</th>\n",
       "      <td>Atliq_Farm_Chakki_Atta (1KG)</td>\n",
       "      <td>Grocery &amp; Staples</td>\n",
       "      <td>10851800</td>\n",
       "      <td>28215275.00</td>\n",
       "      <td>17363475.00</td>\n",
       "      <td>160.01</td>\n",
       "    </tr>\n",
       "  </tbody>\n",
       "</table>\n",
       "</div>"
      ],
      "text/plain": [
       "                      product_name           category  total_rev_before_promo  \\\n",
       "14  Atliq_waterproof_Immersion_Rod    Home Appliances                 6597360   \n",
       "7      Atliq_High_Glo_15W_LED_Bulb    Home Appliances                 2885750   \n",
       "4        Atliq_Double_Bedsheet_set          Home Care                 5001570   \n",
       "2                   Atliq_Curtains          Home Care                 1377600   \n",
       "5     Atliq_Farm_Chakki_Atta (1KG)  Grocery & Staples                10851800   \n",
       "\n",
       "    total_rev_after_promo          IR    IR%  \n",
       "14            24158700.00 17561340.00 266.19  \n",
       "7             10474800.00  7589050.00 262.98  \n",
       "4             17919020.00 12917450.00 258.27  \n",
       "2              4895100.00  3517500.00 255.34  \n",
       "5             28215275.00 17363475.00 160.01  "
      ]
     },
     "execution_count": 71,
     "metadata": {},
     "output_type": "execute_result"
    }
   ],
   "source": [
    "events_prod = pd.merge(events,products,on='product_code',how='inner')\n",
    "events_prod_ir = events_prod.groupby(['product_name','category'])[['total_rev_before_promo','total_rev_after_promo']].sum().reset_index()\n",
    "events_prod_ir['IR'] = events_prod_ir['total_rev_after_promo'] - events_prod_ir['total_rev_before_promo']\n",
    "events_prod_ir['IR%'] = 100*(events_prod_ir['total_rev_after_promo'] - events_prod_ir['total_rev_before_promo'])/events_prod_ir['total_rev_before_promo']\n",
    "events_prod_ir.sort_values(by='IR%',ascending=False).head(5)"
   ]
  },
  {
   "cell_type": "markdown",
   "id": "2ed47356",
   "metadata": {},
   "source": [
    "------"
   ]
  }
 ],
 "metadata": {
  "kernelspec": {
   "display_name": "Python 3 (ipykernel)",
   "language": "python",
   "name": "python3"
  },
  "language_info": {
   "codemirror_mode": {
    "name": "ipython",
    "version": 3
   },
   "file_extension": ".py",
   "mimetype": "text/x-python",
   "name": "python",
   "nbconvert_exporter": "python",
   "pygments_lexer": "ipython3",
   "version": "3.9.7"
  }
 },
 "nbformat": 4,
 "nbformat_minor": 5
}
